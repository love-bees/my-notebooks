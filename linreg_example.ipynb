{
  "nbformat": 4,
  "nbformat_minor": 0,
  "metadata": {
    "colab": {
      "name": "linreg_example.ipynb",
      "provenance": [],
      "authorship_tag": "ABX9TyPR4l8JOIwTu+xnpKWHFtIX",
      "include_colab_link": true
    },
    "kernelspec": {
      "name": "python3",
      "display_name": "Python 3"
    }
  },
  "cells": [
    {
      "cell_type": "markdown",
      "metadata": {
        "id": "view-in-github",
        "colab_type": "text"
      },
      "source": [
        "<a href=\"https://colab.research.google.com/github/love-bees/my-notebooks/blob/master/linreg_example.ipynb\" target=\"_parent\"><img src=\"https://colab.research.google.com/assets/colab-badge.svg\" alt=\"Open In Colab\"/></a>"
      ]
    },
    {
      "cell_type": "markdown",
      "metadata": {
        "id": "bPov383YmgD5"
      },
      "source": [
        "# First way (using sklearn)"
      ]
    },
    {
      "cell_type": "code",
      "metadata": {
        "id": "WtwG4oNAhaIr"
      },
      "source": [
        "import pandas as pd\n",
        "import matplotlib.pyplot as plt\n",
        "from sklearn.linear_model import LinearRegression\n",
        "import numpy as np"
      ],
      "execution_count": null,
      "outputs": []
    },
    {
      "cell_type": "code",
      "metadata": {
        "id": "4vQYkGb7hshM"
      },
      "source": [
        "data = pd.read_excel('Regression.xlsx')"
      ],
      "execution_count": null,
      "outputs": []
    },
    {
      "cell_type": "code",
      "metadata": {
        "id": "m5ZZoGdohxYQ",
        "outputId": "377c38e4-fa37-4c4e-c10b-670661f4fa94",
        "colab": {
          "base_uri": "https://localhost:8080/",
          "height": 197
        }
      },
      "source": [
        "data.head(5)"
      ],
      "execution_count": null,
      "outputs": [
        {
          "output_type": "execute_result",
          "data": {
            "text/html": [
              "<div>\n",
              "<style scoped>\n",
              "    .dataframe tbody tr th:only-of-type {\n",
              "        vertical-align: middle;\n",
              "    }\n",
              "\n",
              "    .dataframe tbody tr th {\n",
              "        vertical-align: top;\n",
              "    }\n",
              "\n",
              "    .dataframe thead th {\n",
              "        text-align: right;\n",
              "    }\n",
              "</style>\n",
              "<table border=\"1\" class=\"dataframe\">\n",
              "  <thead>\n",
              "    <tr style=\"text-align: right;\">\n",
              "      <th></th>\n",
              "      <th>LST</th>\n",
              "      <th>NDVI</th>\n",
              "    </tr>\n",
              "  </thead>\n",
              "  <tbody>\n",
              "    <tr>\n",
              "      <th>0</th>\n",
              "      <td>0.223036</td>\n",
              "      <td>42.519179</td>\n",
              "    </tr>\n",
              "    <tr>\n",
              "      <th>1</th>\n",
              "      <td>0.201979</td>\n",
              "      <td>42.617420</td>\n",
              "    </tr>\n",
              "    <tr>\n",
              "      <th>2</th>\n",
              "      <td>0.284411</td>\n",
              "      <td>41.965477</td>\n",
              "    </tr>\n",
              "    <tr>\n",
              "      <th>3</th>\n",
              "      <td>0.270442</td>\n",
              "      <td>41.966960</td>\n",
              "    </tr>\n",
              "    <tr>\n",
              "      <th>4</th>\n",
              "      <td>0.270002</td>\n",
              "      <td>43.105206</td>\n",
              "    </tr>\n",
              "  </tbody>\n",
              "</table>\n",
              "</div>"
            ],
            "text/plain": [
              "        LST       NDVI\n",
              "0  0.223036  42.519179\n",
              "1  0.201979  42.617420\n",
              "2  0.284411  41.965477\n",
              "3  0.270442  41.966960\n",
              "4  0.270002  43.105206"
            ]
          },
          "metadata": {
            "tags": []
          },
          "execution_count": 25
        }
      ]
    },
    {
      "cell_type": "code",
      "metadata": {
        "id": "8OvjfK0_hx6A",
        "outputId": "f26d0325-8c36-47b8-f05a-f2a7468dbc5a",
        "colab": {
          "base_uri": "https://localhost:8080/",
          "height": 295
        }
      },
      "source": [
        "X = data['LST'].values\n",
        "y = data['NDVI'].values\n",
        "\n",
        "plt.scatter(X,y)\n",
        "plt.xlabel('LST');\n",
        "plt.ylabel('NDVI');\n",
        "plt.title('Regression data');\n",
        "\n",
        "#the linear trend isn't obvious from the plot"
      ],
      "execution_count": null,
      "outputs": [
        {
          "output_type": "display_data",
          "data": {
            "image/png": "[encoded data removed]",
            "text/plain": [
              "<Figure size 432x288 with 1 Axes>"
            ]
          },
          "metadata": {
            "tags": [],
            "needs_background": "light"
          }
        }
      ]
    },
    {
      "cell_type": "code",
      "metadata": {
        "id": "xL1l1rgsiNr8"
      },
      "source": [
        "model = LinearRegression()"
      ],
      "execution_count": null,
      "outputs": []
    },
    {
      "cell_type": "code",
      "metadata": {
        "id": "0iOsv_5DjfQ-",
        "outputId": "a1c74639-05cb-405c-d5d1-e325d8377cf5",
        "colab": {
          "base_uri": "https://localhost:8080/"
        }
      },
      "source": [
        "model.fit(X[:,np.newaxis], y)"
      ],
      "execution_count": null,
      "outputs": [
        {
          "output_type": "execute_result",
          "data": {
            "text/plain": [
              "LinearRegression(copy_X=True, fit_intercept=True, n_jobs=None, normalize=False)"
            ]
          },
          "metadata": {
            "tags": []
          },
          "execution_count": 28
        }
      ]
    },
    {
      "cell_type": "code",
      "metadata": {
        "id": "TJBRgdkijsXW"
      },
      "source": [
        "xfit = np.linspace(0.07, 0.3, 1000)\n",
        "yfit = model.predict(xfit[:,np.newaxis])"
      ],
      "execution_count": null,
      "outputs": []
    },
    {
      "cell_type": "code",
      "metadata": {
        "id": "-xbnzeX_kBo_",
        "outputId": "7e594b9d-734a-4cb7-f593-435656ed658c",
        "colab": {
          "base_uri": "https://localhost:8080/",
          "height": 295
        }
      },
      "source": [
        "plt.scatter(X, y)\n",
        "plt.plot(xfit, yfit, 'C3');\n",
        "plt.xlabel('LST');\n",
        "plt.ylabel('NDVI');\n",
        "plt.title('Regression data');"
      ],
      "execution_count": null,
      "outputs": [
        {
          "output_type": "display_data",
          "data": {
            "image/png": "[encoded data removed]",
            "text/plain": [
              "<Figure size 432x288 with 1 Axes>"
            ]
          },
          "metadata": {
            "tags": [],
            "needs_background": "light"
          }
        }
      ]
    },
    {
      "cell_type": "markdown",
      "metadata": {
        "id": "xDtc_STimazb"
      },
      "source": [
        "# Second way (using tensorflow)"
      ]
    },
    {
      "cell_type": "code",
      "metadata": {
        "id": "UoRFzRDvljpR"
      },
      "source": [
        "X = X.reshape(X.shape[0],1)"
      ],
      "execution_count": null,
      "outputs": []
    },
    {
      "cell_type": "code",
      "metadata": {
        "id": "3psNZH2ulLo9"
      },
      "source": [
        "import tensorflow as tf\n",
        "from sklearn.model_selection import train_test_split\n",
        "\n",
        "train_features , test_features ,train_labels, test_labels = train_test_split(X, y, test_size = 0.2)\n",
        "\n",
        "train_X = tf.constant( train_features , dtype=tf.float32 )\n",
        "train_Y = tf.constant( train_labels , dtype=tf.float32 )\n",
        "\n",
        "test_X = tf.constant( test_features , dtype=tf.float32 )\n",
        "test_Y = tf.constant( test_labels , dtype=tf.float32 )"
      ],
      "execution_count": null,
      "outputs": []
    },
    {
      "cell_type": "code",
      "metadata": {
        "id": "PFlHZpv8lNmi"
      },
      "source": [
        "#defining the mean square error, it's derivative and the hypothesis function\n",
        "\n",
        "def MSE(Y,y_pred):\n",
        "    return tf.reduce_mean(tf.square(y_pred-Y))\n",
        "\n",
        "def MSE_derivative(Y,y_pred):\n",
        "    return tf.reshape(tf.reduce_mean(2*(y_pred - Y)), [1, 1])\n",
        "\n",
        "def h(X,weights,bias):\n",
        "    return tf.tensordot(X, weights, axes=1)+bias"
      ],
      "execution_count": null,
      "outputs": []
    },
    {
      "cell_type": "code",
      "metadata": {
        "id": "M_gH0DQ7lQnu"
      },
      "source": [
        "#generating data for learning and shuffling the dataset\n",
        "num_epochs = 100\n",
        "num_samples = train_X.shape[0]\n",
        "batch_size = 10\n",
        "learning_rate = 0.001\n",
        "\n",
        "dataset = tf.data.Dataset.from_tensor_slices((train_X , train_Y))\n",
        "dataset = dataset.shuffle( 500 ).repeat( num_epochs ).batch( batch_size )\n",
        "iterator = dataset.__iter__()"
      ],
      "execution_count": null,
      "outputs": []
    },
    {
      "cell_type": "code",
      "metadata": {
        "id": "SerQbfg1lViR"
      },
      "source": [
        "#generating number of features, a random weight and setting the starting bias to 0\n",
        "num_features = train_X.shape[1]\n",
        "weights = tf.random.normal((num_features, 1))\n",
        "bias = tf.random.normal((num_features, 1))\n",
        "\n",
        "#will be used for plotting after\n",
        "epochs_plot = list()\n",
        "loss_plot = list()\n",
        "\n",
        "for i in range(num_epochs) :\n",
        "\n",
        "    epoch_loss = list()\n",
        "    for j in range(int(num_samples/batch_size)):\n",
        "\n",
        "        x_batch , y_batch = iterator.get_next()\n",
        "\n",
        "        output = h(x_batch, weights, bias)\n",
        "        loss = epoch_loss.append( MSE( y_batch , output ).numpy() )\n",
        "\n",
        "        dJ_dH = MSE_derivative(y_batch, output)\n",
        "        dH_dW = x_batch\n",
        "        dJ_dW = tf.reduce_mean( dJ_dH * dH_dW )\n",
        "        dJ_dB = tf.reduce_mean( dJ_dH )\n",
        "\n",
        "        weights -= (learning_rate * dJ_dW)\n",
        "        bias -= (learning_rate * dJ_dB)\n",
        "    loss = np.array(epoch_loss).mean()\n",
        "    epochs_plot.append(i + 1)\n",
        "    loss_plot.append(loss)\n",
        "\n",
        "    #print('Loss is', loss )"
      ],
      "execution_count": null,
      "outputs": []
    },
    {
      "cell_type": "code",
      "metadata": {
        "id": "eB0jBwp9lYIv",
        "outputId": "3dab9e59-37f3-43df-a865-1e5f42f8142b",
        "colab": {
          "base_uri": "https://localhost:8080/",
          "height": 295
        }
      },
      "source": [
        "plt.plot(epochs_plot, loss_plot, color='C9')\n",
        "plt.title('Loss over epochs');\n",
        "plt.xlabel('Epochs');\n",
        "plt.ylabel('Loss');"
      ],
      "execution_count": null,
      "outputs": [
        {
          "output_type": "display_data",
          "data": {
            "image/png": "[encoded data removed]",
            "text/plain": [
              "<Figure size 432x288 with 1 Axes>"
            ]
          },
          "metadata": {
            "tags": [],
            "needs_background": "light"
          }
        }
      ]
    },
    {
      "cell_type": "code",
      "metadata": {
        "id": "ElArh17ol3W-",
        "outputId": "0be85e4c-b721-449b-f34d-a2eb8d60942b",
        "colab": {
          "base_uri": "https://localhost:8080/"
        }
      },
      "source": [
        "output = h(test_X , weights , bias )\n",
        "labels = test_Y\n",
        "\n",
        "accuracy_op = tf.metrics.MeanAbsoluteError()\n",
        "accuracy_op.update_state( labels , output )\n",
        "print( 'Mean Absolute Error = {}'.format( accuracy_op.result().numpy() ) )"
      ],
      "execution_count": null,
      "outputs": [
        {
          "output_type": "stream",
          "text": [
            "Mean Absolute Error = 1.1802783012390137\n"
          ],
          "name": "stdout"
        }
      ]
    },
    {
      "cell_type": "code",
      "metadata": {
        "id": "NdCE--4wl6eK",
        "outputId": "f575c14f-f00c-475e-e4b7-c2298c122c5d",
        "colab": {
          "base_uri": "https://localhost:8080/",
          "height": 281
        }
      },
      "source": [
        "plt.scatter(train_X,train_Y)\n",
        "plt.plot(test_X, output, color='C3')"
      ],
      "execution_count": null,
      "outputs": [
        {
          "output_type": "execute_result",
          "data": {
            "text/plain": [
              "[<matplotlib.lines.Line2D at 0x7fa44c8a2eb8>]"
            ]
          },
          "metadata": {
            "tags": []
          },
          "execution_count": 75
        },
        {
          "output_type": "display_data",
          "data": {
            "image/png": "[encoded data removed]",
            "text/plain": [
              "<Figure size 432x288 with 1 Axes>"
            ]
          },
          "metadata": {
            "tags": [],
            "needs_background": "light"
          }
        }
      ]
    }
  ]
}